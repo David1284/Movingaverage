{
 "metadata": {
  "language_info": {
   "codemirror_mode": {
    "name": "ipython",
    "version": 3
   },
   "file_extension": ".py",
   "mimetype": "text/x-python",
   "name": "python",
   "nbconvert_exporter": "python",
   "pygments_lexer": "ipython3",
   "version": "3.8.6-final"
  },
  "orig_nbformat": 2,
  "kernelspec": {
   "name": "python3",
   "display_name": "Python 3",
   "language": "python"
  }
 },
 "nbformat": 4,
 "nbformat_minor": 2,
 "cells": [
  {
   "cell_type": "code",
   "execution_count": 1,
   "metadata": {
    "ExecuteTime": {
     "end_time": "2023-11-21T09:11:47.202381700Z",
     "start_time": "2023-11-21T09:11:44.470248300Z"
    }
   },
   "outputs": [],
   "source": [
    "import requests\n",
    "import defs\n",
    "import pandas as pd"
   ]
  },
  {
   "cell_type": "code",
   "execution_count": 2,
   "metadata": {
    "ExecuteTime": {
     "end_time": "2023-11-21T09:11:47.220495200Z",
     "start_time": "2023-11-21T09:11:47.211357900Z"
    }
   },
   "outputs": [],
   "source": [
    "session = requests.Session()"
   ]
  },
  {
   "cell_type": "code",
   "execution_count": 3,
   "metadata": {
    "ExecuteTime": {
     "end_time": "2023-11-21T09:11:47.248625700Z",
     "start_time": "2023-11-21T09:11:47.228064300Z"
    }
   },
   "outputs": [],
   "source": [
    "url = f\"{defs.OANDA_URL}/accounts/{defs.ACCOUNT_ID}/instruments\""
   ]
  },
  {
   "cell_type": "code",
   "execution_count": 4,
   "metadata": {
    "ExecuteTime": {
     "end_time": "2023-11-21T09:11:47.266066800Z",
     "start_time": "2023-11-21T09:11:47.245633400Z"
    }
   },
   "outputs": [
    {
     "data": {
      "text/plain": "'https://api-fxpractice.oanda.com/v3/accounts/101-011-21254494-001/instruments'"
     },
     "execution_count": 4,
     "metadata": {},
     "output_type": "execute_result"
    }
   ],
   "source": [
    "url"
   ]
  },
  {
   "cell_type": "code",
   "execution_count": 5,
   "metadata": {
    "ExecuteTime": {
     "end_time": "2023-11-21T09:11:48.860669600Z",
     "start_time": "2023-11-21T09:11:47.272506400Z"
    }
   },
   "outputs": [],
   "source": [
    "response = session.get(url, params=None, headers=defs.SECURE_HEADER)"
   ]
  },
  {
   "cell_type": "code",
   "execution_count": 6,
   "metadata": {
    "ExecuteTime": {
     "end_time": "2023-11-21T09:11:48.881878300Z",
     "start_time": "2023-11-21T09:11:48.847969500Z"
    }
   },
   "outputs": [
    {
     "data": {
      "text/plain": "200"
     },
     "execution_count": 6,
     "metadata": {},
     "output_type": "execute_result"
    }
   ],
   "source": [
    "response.status_code"
   ]
  },
  {
   "cell_type": "code",
   "execution_count": 7,
   "metadata": {
    "ExecuteTime": {
     "end_time": "2023-11-21T09:11:48.888936400Z",
     "start_time": "2023-11-21T09:11:48.876115100Z"
    }
   },
   "outputs": [],
   "source": [
    "data = response.json()"
   ]
  },
  {
   "cell_type": "code",
   "execution_count": 8,
   "metadata": {
    "ExecuteTime": {
     "end_time": "2023-11-21T09:11:48.932055400Z",
     "start_time": "2023-11-21T09:11:48.899176300Z"
    }
   },
   "outputs": [
    {
     "data": {
      "text/plain": "dict_keys(['instruments', 'lastTransactionID'])"
     },
     "execution_count": 8,
     "metadata": {},
     "output_type": "execute_result"
    }
   ],
   "source": [
    "data.keys()"
   ]
  },
  {
   "cell_type": "code",
   "execution_count": 9,
   "metadata": {
    "ExecuteTime": {
     "end_time": "2023-11-21T09:11:48.935046500Z",
     "start_time": "2023-11-21T09:11:48.920692200Z"
    }
   },
   "outputs": [],
   "source": [
    "instruments = data['instruments']"
   ]
  },
  {
   "cell_type": "code",
   "execution_count": 10,
   "metadata": {
    "ExecuteTime": {
     "end_time": "2023-11-21T09:11:49.022490900Z",
     "start_time": "2023-11-21T09:11:48.936555900Z"
    }
   },
   "outputs": [
    {
     "data": {
      "text/plain": "dict_keys(['name', 'type', 'displayName', 'pipLocation', 'displayPrecision', 'tradeUnitsPrecision', 'minimumTradeSize', 'maximumTrailingStopDistance', 'minimumTrailingStopDistance', 'maximumPositionSize', 'maximumOrderUnits', 'marginRate', 'guaranteedStopLossOrderMode', 'minimumGuaranteedStopLossDistance', 'guaranteedStopLossOrderExecutionPremium', 'guaranteedStopLossOrderLevelRestriction', 'tags', 'financing'])"
     },
     "execution_count": 10,
     "metadata": {},
     "output_type": "execute_result"
    }
   ],
   "source": [
    "instruments[0].keys()"
   ]
  },
  {
   "cell_type": "code",
   "execution_count": 11,
   "metadata": {
    "ExecuteTime": {
     "end_time": "2023-11-21T09:11:49.038860800Z",
     "start_time": "2023-11-21T09:11:48.995262700Z"
    }
   },
   "outputs": [],
   "source": [
    "instrument_data = []\n",
    "for item in instruments:\n",
    "    new_ob = dict(\n",
    "        name = item['name'],\n",
    "        type = item['type'],\n",
    "        displayName = item['displayName'],\n",
    "        pipLocation = item['pipLocation'],\n",
    "        marginRate = item['marginRate']\n",
    "    )\n",
    "    instrument_data.append(new_ob)"
   ]
  },
  {
   "cell_type": "code",
   "execution_count": 12,
   "metadata": {
    "ExecuteTime": {
     "end_time": "2023-11-21T09:11:49.259970900Z",
     "start_time": "2023-11-21T09:11:49.014221400Z"
    }
   },
   "outputs": [
    {
     "name": "stdout",
     "output_type": "stream",
     "text": [
      "{'name': 'USD_SGD', 'type': 'CURRENCY', 'displayName': 'USD/SGD', 'pipLocation': -4, 'marginRate': '0.05'}\n",
      "{'name': 'EUR_SEK', 'type': 'CURRENCY', 'displayName': 'EUR/SEK', 'pipLocation': -4, 'marginRate': '0.05'}\n",
      "{'name': 'HKD_JPY', 'type': 'CURRENCY', 'displayName': 'HKD/JPY', 'pipLocation': -4, 'marginRate': '0.05'}\n"
     ]
    }
   ],
   "source": [
    "for item in instrument_data[:3]:\n",
    "    print(item)"
   ]
  },
  {
   "cell_type": "code",
   "execution_count": 13,
   "metadata": {
    "ExecuteTime": {
     "end_time": "2023-11-21T09:11:49.283149100Z",
     "start_time": "2023-11-21T09:11:49.059967500Z"
    }
   },
   "outputs": [],
   "source": [
    "instrument_df = pd.DataFrame.from_dict(instrument_data)"
   ]
  },
  {
   "cell_type": "code",
   "execution_count": 14,
   "metadata": {
    "ExecuteTime": {
     "end_time": "2023-11-21T09:11:49.564363200Z",
     "start_time": "2023-11-21T09:11:49.126059900Z"
    }
   },
   "outputs": [
    {
     "data": {
      "text/plain": "           name      type   displayName  pipLocation       marginRate\n0       USD_SGD  CURRENCY       USD/SGD           -4             0.05\n1       EUR_SEK  CURRENCY       EUR/SEK           -4             0.05\n2       HKD_JPY  CURRENCY       HKD/JPY           -4             0.05\n3       AUD_USD  CURRENCY       AUD/USD           -4  0.0333333333333\n4       USD_CAD  CURRENCY       USD/CAD           -4  0.0333333333333\n..          ...       ...           ...          ...              ...\n123     EUR_CZK  CURRENCY       EUR/CZK           -4             0.05\n124     NZD_JPY  CURRENCY       NZD/JPY           -2             0.05\n125  USB05Y_USD       CFD  US 5Y T-Note           -2              0.2\n126  USB30Y_USD       CFD     US T-Bond           -2              0.2\n127     XAG_USD     METAL        Silver           -4              0.1\n\n[128 rows x 5 columns]",
      "text/html": "<div>\n<style scoped>\n    .dataframe tbody tr th:only-of-type {\n        vertical-align: middle;\n    }\n\n    .dataframe tbody tr th {\n        vertical-align: top;\n    }\n\n    .dataframe thead th {\n        text-align: right;\n    }\n</style>\n<table border=\"1\" class=\"dataframe\">\n  <thead>\n    <tr style=\"text-align: right;\">\n      <th></th>\n      <th>name</th>\n      <th>type</th>\n      <th>displayName</th>\n      <th>pipLocation</th>\n      <th>marginRate</th>\n    </tr>\n  </thead>\n  <tbody>\n    <tr>\n      <th>0</th>\n      <td>USD_SGD</td>\n      <td>CURRENCY</td>\n      <td>USD/SGD</td>\n      <td>-4</td>\n      <td>0.05</td>\n    </tr>\n    <tr>\n      <th>1</th>\n      <td>EUR_SEK</td>\n      <td>CURRENCY</td>\n      <td>EUR/SEK</td>\n      <td>-4</td>\n      <td>0.05</td>\n    </tr>\n    <tr>\n      <th>2</th>\n      <td>HKD_JPY</td>\n      <td>CURRENCY</td>\n      <td>HKD/JPY</td>\n      <td>-4</td>\n      <td>0.05</td>\n    </tr>\n    <tr>\n      <th>3</th>\n      <td>AUD_USD</td>\n      <td>CURRENCY</td>\n      <td>AUD/USD</td>\n      <td>-4</td>\n      <td>0.0333333333333</td>\n    </tr>\n    <tr>\n      <th>4</th>\n      <td>USD_CAD</td>\n      <td>CURRENCY</td>\n      <td>USD/CAD</td>\n      <td>-4</td>\n      <td>0.0333333333333</td>\n    </tr>\n    <tr>\n      <th>...</th>\n      <td>...</td>\n      <td>...</td>\n      <td>...</td>\n      <td>...</td>\n      <td>...</td>\n    </tr>\n    <tr>\n      <th>123</th>\n      <td>EUR_CZK</td>\n      <td>CURRENCY</td>\n      <td>EUR/CZK</td>\n      <td>-4</td>\n      <td>0.05</td>\n    </tr>\n    <tr>\n      <th>124</th>\n      <td>NZD_JPY</td>\n      <td>CURRENCY</td>\n      <td>NZD/JPY</td>\n      <td>-2</td>\n      <td>0.05</td>\n    </tr>\n    <tr>\n      <th>125</th>\n      <td>USB05Y_USD</td>\n      <td>CFD</td>\n      <td>US 5Y T-Note</td>\n      <td>-2</td>\n      <td>0.2</td>\n    </tr>\n    <tr>\n      <th>126</th>\n      <td>USB30Y_USD</td>\n      <td>CFD</td>\n      <td>US T-Bond</td>\n      <td>-2</td>\n      <td>0.2</td>\n    </tr>\n    <tr>\n      <th>127</th>\n      <td>XAG_USD</td>\n      <td>METAL</td>\n      <td>Silver</td>\n      <td>-4</td>\n      <td>0.1</td>\n    </tr>\n  </tbody>\n</table>\n<p>128 rows × 5 columns</p>\n</div>"
     },
     "execution_count": 14,
     "metadata": {},
     "output_type": "execute_result"
    }
   ],
   "source": [
    "instrument_df"
   ]
  },
  {
   "cell_type": "code",
   "execution_count": 15,
   "metadata": {
    "ExecuteTime": {
     "end_time": "2023-11-21T09:11:49.565746Z",
     "start_time": "2023-11-21T09:11:49.177821300Z"
    }
   },
   "outputs": [],
   "source": [
    "instrument_df.to_pickle(\"instruments.pkl\")"
   ]
  },
  {
   "cell_type": "code",
   "execution_count": 16,
   "metadata": {
    "ExecuteTime": {
     "end_time": "2023-11-21T09:11:49.566749700Z",
     "start_time": "2023-11-21T09:11:49.188908100Z"
    }
   },
   "outputs": [],
   "source": [
    "new_table = pd.read_pickle(\"instruments.pkl\")"
   ]
  },
  {
   "cell_type": "code",
   "execution_count": 17,
   "metadata": {
    "ExecuteTime": {
     "end_time": "2023-11-21T09:11:49.569740700Z",
     "start_time": "2023-11-21T09:11:49.205021800Z"
    }
   },
   "outputs": [
    {
     "data": {
      "text/plain": "           name      type   displayName  pipLocation       marginRate\n0       USD_SGD  CURRENCY       USD/SGD           -4             0.05\n1       EUR_SEK  CURRENCY       EUR/SEK           -4             0.05\n2       HKD_JPY  CURRENCY       HKD/JPY           -4             0.05\n3       AUD_USD  CURRENCY       AUD/USD           -4  0.0333333333333\n4       USD_CAD  CURRENCY       USD/CAD           -4  0.0333333333333\n..          ...       ...           ...          ...              ...\n123     EUR_CZK  CURRENCY       EUR/CZK           -4             0.05\n124     NZD_JPY  CURRENCY       NZD/JPY           -2             0.05\n125  USB05Y_USD       CFD  US 5Y T-Note           -2              0.2\n126  USB30Y_USD       CFD     US T-Bond           -2              0.2\n127     XAG_USD     METAL        Silver           -4              0.1\n\n[128 rows x 5 columns]",
      "text/html": "<div>\n<style scoped>\n    .dataframe tbody tr th:only-of-type {\n        vertical-align: middle;\n    }\n\n    .dataframe tbody tr th {\n        vertical-align: top;\n    }\n\n    .dataframe thead th {\n        text-align: right;\n    }\n</style>\n<table border=\"1\" class=\"dataframe\">\n  <thead>\n    <tr style=\"text-align: right;\">\n      <th></th>\n      <th>name</th>\n      <th>type</th>\n      <th>displayName</th>\n      <th>pipLocation</th>\n      <th>marginRate</th>\n    </tr>\n  </thead>\n  <tbody>\n    <tr>\n      <th>0</th>\n      <td>USD_SGD</td>\n      <td>CURRENCY</td>\n      <td>USD/SGD</td>\n      <td>-4</td>\n      <td>0.05</td>\n    </tr>\n    <tr>\n      <th>1</th>\n      <td>EUR_SEK</td>\n      <td>CURRENCY</td>\n      <td>EUR/SEK</td>\n      <td>-4</td>\n      <td>0.05</td>\n    </tr>\n    <tr>\n      <th>2</th>\n      <td>HKD_JPY</td>\n      <td>CURRENCY</td>\n      <td>HKD/JPY</td>\n      <td>-4</td>\n      <td>0.05</td>\n    </tr>\n    <tr>\n      <th>3</th>\n      <td>AUD_USD</td>\n      <td>CURRENCY</td>\n      <td>AUD/USD</td>\n      <td>-4</td>\n      <td>0.0333333333333</td>\n    </tr>\n    <tr>\n      <th>4</th>\n      <td>USD_CAD</td>\n      <td>CURRENCY</td>\n      <td>USD/CAD</td>\n      <td>-4</td>\n      <td>0.0333333333333</td>\n    </tr>\n    <tr>\n      <th>...</th>\n      <td>...</td>\n      <td>...</td>\n      <td>...</td>\n      <td>...</td>\n      <td>...</td>\n    </tr>\n    <tr>\n      <th>123</th>\n      <td>EUR_CZK</td>\n      <td>CURRENCY</td>\n      <td>EUR/CZK</td>\n      <td>-4</td>\n      <td>0.05</td>\n    </tr>\n    <tr>\n      <th>124</th>\n      <td>NZD_JPY</td>\n      <td>CURRENCY</td>\n      <td>NZD/JPY</td>\n      <td>-2</td>\n      <td>0.05</td>\n    </tr>\n    <tr>\n      <th>125</th>\n      <td>USB05Y_USD</td>\n      <td>CFD</td>\n      <td>US 5Y T-Note</td>\n      <td>-2</td>\n      <td>0.2</td>\n    </tr>\n    <tr>\n      <th>126</th>\n      <td>USB30Y_USD</td>\n      <td>CFD</td>\n      <td>US T-Bond</td>\n      <td>-2</td>\n      <td>0.2</td>\n    </tr>\n    <tr>\n      <th>127</th>\n      <td>XAG_USD</td>\n      <td>METAL</td>\n      <td>Silver</td>\n      <td>-4</td>\n      <td>0.1</td>\n    </tr>\n  </tbody>\n</table>\n<p>128 rows × 5 columns</p>\n</div>"
     },
     "execution_count": 17,
     "metadata": {},
     "output_type": "execute_result"
    }
   ],
   "source": [
    "new_table"
   ]
  },
  {
   "cell_type": "code",
   "execution_count": 17,
   "metadata": {
    "ExecuteTime": {
     "end_time": "2023-11-21T09:11:49.570737400Z",
     "start_time": "2023-11-21T09:11:49.237764900Z"
    }
   },
   "outputs": [],
   "source": []
  }
 ]
}
