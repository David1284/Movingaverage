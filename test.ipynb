{
 "metadata": {
  "language_info": {
   "codemirror_mode": {
    "name": "ipython",
    "version": 3
   },
   "file_extension": ".py",
   "mimetype": "text/x-python",
   "name": "python",
   "nbconvert_exporter": "python",
   "pygments_lexer": "ipython3",
   "version": "3.8.6-final"
  },
  "orig_nbformat": 2,
  "kernelspec": {
   "name": "python3",
   "display_name": "Python 3",
   "language": "python"
  }
 },
 "nbformat": 4,
 "nbformat_minor": 2,
 "cells": [
  {
   "cell_type": "code",
   "execution_count": 1,
   "metadata": {
    "ExecuteTime": {
     "end_time": "2023-11-21T09:12:43.629431200Z",
     "start_time": "2023-11-21T09:12:43.617956Z"
    }
   },
   "outputs": [],
   "source": [
    "class Dog():\n",
    "    def __init__(self, name, age):\n",
    "        self.name = name\n",
    "        self.age = age\n",
    "\n",
    "    def __repr__(self):\n",
    "        return str(vars(self))\n",
    "\n",
    "    def woof(self):\n",
    "        print(\"Woof\")\n",
    "\n",
    "    @classmethod\n",
    "    def cls_woof(cls):\n",
    "        print(\"CLS Woof\")\n"
   ]
  },
  {
   "cell_type": "code",
   "execution_count": 2,
   "metadata": {
    "ExecuteTime": {
     "end_time": "2023-11-21T09:12:43.637720900Z",
     "start_time": "2023-11-21T09:12:43.633503500Z"
    }
   },
   "outputs": [],
   "source": [
    "d = Dog(\"Fido\", 99)"
   ]
  },
  {
   "cell_type": "code",
   "execution_count": 3,
   "metadata": {
    "ExecuteTime": {
     "end_time": "2023-11-21T09:12:43.668980Z",
     "start_time": "2023-11-21T09:12:43.643035600Z"
    }
   },
   "outputs": [
    {
     "name": "stdout",
     "output_type": "stream",
     "text": [
      "CLS Woof\n"
     ]
    }
   ],
   "source": [
    "d.cls_woof()"
   ]
  },
  {
   "cell_type": "code",
   "execution_count": 3,
   "metadata": {
    "ExecuteTime": {
     "end_time": "2023-11-21T09:12:43.678015700Z",
     "start_time": "2023-11-21T09:12:43.670003700Z"
    }
   },
   "outputs": [],
   "source": []
  }
 ]
}
