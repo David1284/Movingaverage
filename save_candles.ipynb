{
 "metadata": {
  "language_info": {
   "codemirror_mode": {
    "name": "ipython",
    "version": 3
   },
   "file_extension": ".py",
   "mimetype": "text/x-python",
   "name": "python",
   "nbconvert_exporter": "python",
   "pygments_lexer": "ipython3",
   "version": "3.8.6-final"
  },
  "orig_nbformat": 2,
  "kernelspec": {
   "name": "python3",
   "display_name": "Python 3",
   "language": "python"
  }
 },
 "nbformat": 4,
 "nbformat_minor": 2,
 "cells": [
  {
   "cell_type": "code",
   "execution_count": 1,
   "metadata": {
    "ExecuteTime": {
     "end_time": "2023-11-21T09:12:33.342758300Z",
     "start_time": "2023-11-21T09:12:32.267401500Z"
    }
   },
   "outputs": [],
   "source": [
    "import requests\n",
    "import defs\n",
    "import pandas as pd"
   ]
  },
  {
   "cell_type": "code",
   "execution_count": 2,
   "metadata": {
    "ExecuteTime": {
     "end_time": "2023-11-21T09:12:33.378550100Z",
     "start_time": "2023-11-21T09:12:33.344449800Z"
    }
   },
   "outputs": [],
   "source": [
    "session = requests.Session()"
   ]
  },
  {
   "cell_type": "code",
   "execution_count": 3,
   "metadata": {
    "ExecuteTime": {
     "end_time": "2023-11-21T09:12:33.379929600Z",
     "start_time": "2023-11-21T09:12:33.352990900Z"
    }
   },
   "outputs": [],
   "source": [
    "ins_df = pd.read_pickle(\"instruments.pkl\")"
   ]
  },
  {
   "cell_type": "code",
   "execution_count": 4,
   "metadata": {
    "ExecuteTime": {
     "end_time": "2023-11-21T09:12:33.381932800Z",
     "start_time": "2023-11-21T09:12:33.363059800Z"
    }
   },
   "outputs": [],
   "source": [
    "our_curr = ['EUR', 'USD', 'GBP', 'JPY', 'CHF', 'NZD', 'CAD']"
   ]
  },
  {
   "cell_type": "code",
   "execution_count": 5,
   "metadata": {
    "ExecuteTime": {
     "end_time": "2023-11-21T09:12:33.412081700Z",
     "start_time": "2023-11-21T09:12:33.377114100Z"
    }
   },
   "outputs": [],
   "source": [
    "def fetch_candles(pair_name, count, granularity):\n",
    "    url = f\"{defs.OANDA_URL}/instruments/{pair_name}/candles\"\n",
    "    params = dict(\n",
    "        count = count,\n",
    "        granularity = granularity,\n",
    "        price = \"MBA\"\n",
    "    )\n",
    "    response = session.get(url, params=params, headers=defs.SECURE_HEADER)\n",
    "    return response.status_code, response.json()"
   ]
  },
  {
   "cell_type": "code",
   "execution_count": 6,
   "metadata": {
    "ExecuteTime": {
     "end_time": "2023-11-21T09:12:33.452918600Z",
     "start_time": "2023-11-21T09:12:33.388811900Z"
    }
   },
   "outputs": [],
   "source": [
    "def get_candles_df(json_response):\n",
    "\n",
    "    prices = ['mid', 'bid', 'ask']\n",
    "    ohlc = ['o', 'h', 'l', 'c']\n",
    "\n",
    "    our_data = []\n",
    "    for candle in json_response['candles']:\n",
    "        if candle['complete'] == False:\n",
    "            continue\n",
    "        new_dict = {}\n",
    "        new_dict['time'] = candle['time']\n",
    "        new_dict['volume'] = candle['volume']\n",
    "        for price in prices:\n",
    "            for oh in ohlc:\n",
    "                new_dict[f\"{price}_{oh}\"] = candle[price][oh]\n",
    "        our_data.append(new_dict)\n",
    "    return pd.DataFrame.from_dict(our_data)"
   ]
  },
  {
   "cell_type": "code",
   "execution_count": 7,
   "metadata": {
    "ExecuteTime": {
     "end_time": "2023-11-21T09:12:33.452918600Z",
     "start_time": "2023-11-21T09:12:33.396137500Z"
    }
   },
   "outputs": [],
   "source": [
    "def save_file(candles_df, pair, granularity):\n",
    "    candles_df.to_pickle(f\"his_data/{pair}_{granularity}.pkl\")"
   ]
  },
  {
   "cell_type": "code",
   "execution_count": 8,
   "metadata": {
    "ExecuteTime": {
     "end_time": "2023-11-21T09:12:33.453983300Z",
     "start_time": "2023-11-21T09:12:33.406096400Z"
    }
   },
   "outputs": [],
   "source": [
    "def create_data(pair, granularity):\n",
    "    code, json_data = fetch_candles(pair, 4000, granularity)\n",
    "    if code != 200:\n",
    "        print(pair, \"Error\")\n",
    "        return\n",
    "    df = get_candles_df(json_data)\n",
    "    print(f\"{pair} loaded {df.shape[0]} candles from {df.time.min()} to {df.time.max()}\")\n",
    "    save_file(df, pair, granularity)"
   ]
  },
  {
   "cell_type": "code",
   "execution_count": 9,
   "metadata": {
    "ExecuteTime": {
     "end_time": "2023-11-21T09:12:59.629478100Z",
     "start_time": "2023-11-21T09:12:33.427804800Z"
    }
   },
   "outputs": [
    {
     "name": "stdout",
     "output_type": "stream",
     "text": [
      "EUR_USD loaded 3999 candles from 2023-03-31T17:00:00.000000000Z to 2023-11-21T08:00:00.000000000Z\n",
      "EUR_GBP loaded 3999 candles from 2023-03-31T17:00:00.000000000Z to 2023-11-21T08:00:00.000000000Z\n",
      "EUR_JPY loaded 3999 candles from 2023-03-31T17:00:00.000000000Z to 2023-11-21T08:00:00.000000000Z\n",
      "EUR_CHF loaded 3999 candles from 2023-03-31T17:00:00.000000000Z to 2023-11-21T08:00:00.000000000Z\n",
      "EUR_NZD loaded 3999 candles from 2023-03-31T16:00:00.000000000Z to 2023-11-21T08:00:00.000000000Z\n",
      "EUR_CAD loaded 3999 candles from 2023-03-31T17:00:00.000000000Z to 2023-11-21T08:00:00.000000000Z\n",
      "USD_JPY loaded 3999 candles from 2023-03-31T17:00:00.000000000Z to 2023-11-21T08:00:00.000000000Z\n",
      "USD_CHF loaded 3999 candles from 2023-03-31T17:00:00.000000000Z to 2023-11-21T08:00:00.000000000Z\n",
      "USD_CAD loaded 3999 candles from 2023-03-31T17:00:00.000000000Z to 2023-11-21T08:00:00.000000000Z\n",
      "GBP_USD loaded 3999 candles from 2023-03-31T17:00:00.000000000Z to 2023-11-21T08:00:00.000000000Z\n",
      "GBP_JPY loaded 3999 candles from 2023-03-31T17:00:00.000000000Z to 2023-11-21T08:00:00.000000000Z\n",
      "GBP_CHF loaded 3999 candles from 2023-03-31T17:00:00.000000000Z to 2023-11-21T08:00:00.000000000Z\n",
      "GBP_NZD loaded 3999 candles from 2023-03-31T16:00:00.000000000Z to 2023-11-21T08:00:00.000000000Z\n",
      "GBP_CAD loaded 3999 candles from 2023-03-31T17:00:00.000000000Z to 2023-11-21T08:00:00.000000000Z\n",
      "CHF_JPY loaded 3999 candles from 2023-03-31T17:00:00.000000000Z to 2023-11-21T08:00:00.000000000Z\n",
      "NZD_USD loaded 3999 candles from 2023-03-31T17:00:00.000000000Z to 2023-11-21T08:00:00.000000000Z\n",
      "NZD_JPY loaded 3999 candles from 2023-03-31T17:00:00.000000000Z to 2023-11-21T08:00:00.000000000Z\n",
      "NZD_CHF loaded 3999 candles from 2023-03-31T10:00:00.000000000Z to 2023-11-21T08:00:00.000000000Z\n",
      "NZD_CAD loaded 3999 candles from 2023-03-31T16:00:00.000000000Z to 2023-11-21T08:00:00.000000000Z\n",
      "CAD_JPY loaded 3999 candles from 2023-03-31T17:00:00.000000000Z to 2023-11-21T08:00:00.000000000Z\n",
      "CAD_CHF loaded 3999 candles from 2023-03-31T15:00:00.000000000Z to 2023-11-21T08:00:00.000000000Z\n"
     ]
    }
   ],
   "source": [
    "for p1 in our_curr:\n",
    "    for p2 in our_curr:\n",
    "        pair = f\"{p1}_{p2}\"\n",
    "        if pair in ins_df.name.unique():\n",
    "            create_data(pair, \"H1\")"
   ]
  },
  {
   "cell_type": "code",
   "execution_count": 9,
   "metadata": {
    "ExecuteTime": {
     "end_time": "2023-11-21T09:12:59.631781800Z",
     "start_time": "2023-11-21T09:12:59.597310500Z"
    }
   },
   "outputs": [],
   "source": []
  }
 ]
}
